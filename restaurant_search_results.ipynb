{
 "cells": [
  {
   "cell_type": "code",
   "execution_count": 46,
   "metadata": {
    "collapsed": false
   },
   "outputs": [
    {
     "name": "stdout",
     "output_type": "stream",
     "text": [
      "              property_title                          ranking    review_count  \\\n",
      "0                    Brisket   #1 of 545 Restaurants in Amman    268 reviews    \n",
      "1            Pizza Roma Cafe   #2 of 545 Restaurants in Amman    300 reviews    \n",
      "2             Habibah Sweets   #3 of 545 Restaurants in Amman    665 reviews    \n",
      "3      Fakhreldin Restaurant   #4 of 545 Restaurants in Amman    787 reviews    \n",
      "4           Sufra Restaurant   #5 of 545 Restaurants in Amman    700 reviews    \n",
      "5      V Lounge & Restaurant   #6 of 545 Restaurants in Amman     57 reviews    \n",
      "6           Tawaheen al-Hawa   #7 of 545 Restaurants in Amman    713 reviews    \n",
      "7  Chestnut Restaurant & Pub   #8 of 545 Restaurants in Amman    283 reviews    \n",
      "8                     Hashem   #9 of 545 Restaurants in Amman  1,361 reviews    \n",
      "9                  Abu Jbara  #10 of 545 Restaurants in Amman    348 reviews    \n",
      "\n",
      "                                                url2  \n",
      "0  /Restaurant_Review-g293986-d7267482-Reviews-Br...  \n",
      "1  /Restaurant_Review-g293986-d3389330-Reviews-Pi...  \n",
      "2  /Restaurant_Review-g293986-d2084697-Reviews-Ha...  \n",
      "3  /Restaurant_Review-g293986-d1371269-Reviews-Fa...  \n",
      "4  /Restaurant_Review-g293986-d2406112-Reviews-Su...  \n",
      "5  /Restaurant_Review-g293986-d3989474-Reviews-V_...  \n",
      "6  /Restaurant_Review-g293986-d1641029-Reviews-Ta...  \n",
      "7  /Restaurant_Review-g293986-d7761403-Reviews-Ch...  \n",
      "8  /Restaurant_Review-g293986-d1918356-Reviews-Ha...  \n",
      "9  /Restaurant_Review-g293986-d3261923-Reviews-Ab...  \n"
     ]
    }
   ],
   "source": [
    "import requests\n",
    "from bs4 import BeautifulSoup\n",
    "import time\n",
    "import pandas as pd\n",
    "import random\n",
    "\n",
    "#https://www.tripadvisor.com/Restaurants-g293986-Amman_Amman_Governorate.html\n",
    "\"\"\"\n",
    "soup.find_all('a', {'class':'property_title'})\n",
    "soup.find_all('span', {'class':'reviewCount'})\n",
    "soup.find_all('div', {'class':'popIndex rebrand popIndexDefault'}) ranking\n",
    "soup.find_all('span', {'class':'item price'})\n",
    "soup.find_all('a', {'class':'item cuisine'})\n",
    "\n",
    "\"\"\"\n",
    "                          \n",
    "property_titles = []\n",
    "review_count = []\n",
    "rankings = []\n",
    "prices = []\n",
    "cuisines = []\n",
    "url2 = []\n",
    "\n",
    "for offset in range(0, 19):\n",
    "    url = 'https://www.tripadvisor.com/Restaurants-g293986-oa' + str(offset) + '-Amman_Amman_Governorate.html#EATERY_OVERVIEW_BOX'\n",
    "\n",
    "    r = requests.get(url)\n",
    "#    soup = BeautifulSoup(r.text, \"html.parser\")\n",
    "    time.sleep(0.05)\n",
    "    soup = BeautifulSoup(r.text,\"lxml\")\n",
    "#    li = soup.find_all('div', {'id':'EATERY_SEARCH_RESULTS'}) # all restaurants in listing\n",
    "    \n",
    "#    for restaurant in soup.find_all(')\n",
    "    for link in soup.find_all('a', {'class':'property_title'}):\n",
    "        title = link.text\n",
    "        property_titles.append(title.strip('\\n'))\n",
    "        \n",
    "    for link in soup.find_all('span', {'class':'reviewCount'}):\n",
    "        count = link.text\n",
    "        review_count.append(count.strip('\\n'))\n",
    "    \n",
    "    for link in soup.find_all('div', {'class':'popIndex rebrand popIndexDefault'}):\n",
    "        rank = link.text\n",
    "        rankings.append(rank.strip('\\n'))\n",
    "        \n",
    "    # some restaurants don't have a price, have to figure this out\n",
    "    for link in soup.find_all('span', {'class':'item price'}):\n",
    "        price = link.text\n",
    "        prices.append(price.strip('\\n'))\n",
    "       \n",
    "    # this isn't really working as of now -- it collects all cuisine tags, not just one for each restaurant\n",
    "    for link in soup.find_all('a', {'class':'item cuisine'}):\n",
    "        cuisine = link.text\n",
    "        cuisines.append(cuisine.strip('\\n'))\n",
    "    \n",
    "    #added url so that we can use these links to move through all the pages in tripadvisor_restaurant.py \n",
    "    # \"https://tripadvisor.com/ + url_of_rest\n",
    "    for link in soup.find_all('a',{'class':'property_title'}):\n",
    "        url_of_rest = link['href']\n",
    "        url2.append(url_of_rest.strip('\\n'))\n",
    "\n",
    "#columns = {'property_title':property_titles, 'review_count':review_count, 'ranking':rankings}\n",
    "columns = {'property_title':property_titles, 'review_count':review_count, 'url2':url2, 'ranking':rankings}\n",
    "df = pd.DataFrame(columns)\n",
    "print(df[:10])"
   ]
  },
  {
   "cell_type": "code",
   "execution_count": null,
   "metadata": {
    "collapsed": true
   },
   "outputs": [],
   "source": []
  }
 ],
 "metadata": {
  "anaconda-cloud": {},
  "kernelspec": {
   "display_name": "Python [conda root]",
   "language": "python",
   "name": "conda-root-py"
  },
  "language_info": {
   "codemirror_mode": {
    "name": "ipython",
    "version": 3
   },
   "file_extension": ".py",
   "mimetype": "text/x-python",
   "name": "python",
   "nbconvert_exporter": "python",
   "pygments_lexer": "ipython3",
   "version": "3.5.2"
  }
 },
 "nbformat": 4,
 "nbformat_minor": 1
}
