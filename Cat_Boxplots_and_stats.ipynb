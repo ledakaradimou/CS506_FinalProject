{
 "cells": [
  {
   "cell_type": "code",
   "execution_count": null,
   "metadata": {
    "collapsed": false
   },
   "outputs": [],
   "source": [
    "from lxml import html\n",
    "import requests\n",
    "from collections import OrderedDict\n",
    "import json\n",
    "import argparse\n",
    "import pandas as pd\n",
    "import csv\n",
    "\n",
    "def parse(input_file):\n",
    "    restaurants = []\n",
    "    for line in input_file:\n",
    "        url = line\n",
    "        response = requests.get(url).text\n",
    "        parser = html.fromstring(response)\n",
    "\t\n",
    "        XPATH_RATING = '//div[@id=\"ratingFilter\"]//ul//li'\n",
    "\n",
    "        XPATH_TRAVELER = '//div[@class=\"col segment extraWidth\"]//ul//li'\n",
    "        XPATH_TIME = '//div[@class=\"col season extraWidth\"]//ul/li'\n",
    "        XPATH_LANGUAGE = '//div[@class=\"col language extraWidth\"]//ul/li'\n",
    "#        XPATH_DETAILS = '//div[contains(@class,\"details_tab\")]//div[contains(@class, \"table_section\")]//text()'\n",
    "        XPATH_NAME = '//h1[@property=\"name\"]//text()'\n",
    "        XPATH_HOTEL_RATING = '//span[@property=\"ratingValue\"]//@content'\n",
    "        XPATH_REVIEWS = '//a[@property=\"reviewCount\"]/@content'\n",
    "        XPATH_RANK = '//div[@class=\"slim_ranking\"]//text()'\n",
    "#         XPATH_OFFICIAL_DESCRIPTION = '//div[contains(@class,\"additional_info\")]//span[contains(@class,\"tabs_descriptive_text\")]//text()'\n",
    "#         XPATH_OFFICIAL_DESCRIPTION = '//div[@class=\"additional_info\"]//div'\n",
    "        XPATH_LATITUDE = '//div[@class=\"mapContainer\"]//@data-lat'\n",
    "        XPATH_LONGITUDE = '//div[@class=\"mapContainer\"]//@data-lng'\n",
    "                                        \n",
    "        ratings = parser.xpath(XPATH_RATING)\n",
    "        travelers = parser.xpath(XPATH_TRAVELER)\n",
    "        times = parser.xpath(XPATH_TIME)\n",
    "        languages = parser.xpath(XPATH_LANGUAGE)\n",
    "\t\n",
    "        raw_name = parser.xpath(XPATH_NAME)\n",
    "        raw_rank = parser.xpath(XPATH_RANK)\n",
    "        raw_review_count = parser.xpath(XPATH_REVIEWS)\n",
    "        raw_rating = parser.xpath(XPATH_HOTEL_RATING)\n",
    "#         raw_official_description = parser.xpath(XPATH_OFFICIAL_DESCRIPTION)\n",
    "#        raw_details = parser.xpath(XPATH_DETAILS)\n",
    "        raw_latitude = parser.xpath(XPATH_LATITUDE)\n",
    "        raw_longitude = parser.xpath(XPATH_LONGITUDE)\n",
    "\t\t\t\t\t\n",
    "        name = ''.join(raw_name).strip() if raw_name else None\n",
    "        rank = ''.join(raw_rank).strip() if raw_rank else None\n",
    "        review_count = ''.join(raw_review_count).strip() if raw_review_count else None\n",
    "        hotel_rating = ''.join(raw_rating).strip() if raw_rating else None\n",
    "#         official_description = ' '.join(' '.join(raw_official_description).split()) if raw_official_description else None\n",
    "#        details = ' '.join(' '.join(raw_details).split()) if raw_details else None\n",
    "        latitude = ' '.join(' '.join(raw_latitude).split()) if raw_latitude else None  \n",
    "        longitude = ' '.join(' '.join(raw_longitude).split()) if raw_longitude else None \n",
    "\n",
    "        ratings_dict = OrderedDict()\n",
    "        for rating in ratings:\n",
    "            XPATH_RATING_KEY = './/div[@class=\"row_label\"]//text()'\n",
    "            XPATH_RATING_VALUE = './/span[@class=\"row_bar\"]/following-sibling::span//text()'\n",
    "            raw_rating_key = rating.xpath(XPATH_RATING_KEY)\n",
    "            raw_rating_value = rating.xpath(XPATH_RATING_VALUE)\n",
    "            cleaned_rating_key = ''.join(raw_rating_key).replace('\\n','')\n",
    "            cleaned_rating_value = ''.join(raw_rating_value).replace('\\n','')\n",
    "            ratings_dict.update({cleaned_rating_key:cleaned_rating_value})\n",
    "    \n",
    "        travelers_list = [] \n",
    "        for traveler in travelers:\n",
    "            XPATH_TRAVELER_TYPE = './/label//text()'\n",
    "            XPATH_TRAVELER_COUNT = './/span//text()'\n",
    "            raw_traveler_type = traveler.xpath(XPATH_TRAVELER_TYPE)\n",
    "            raw_traveler_count = traveler.xpath(XPATH_TRAVELER_COUNT)\n",
    "            cleaned_traveler_type = ''.join(raw_traveler_type).replace('\\n','').split(' ')\n",
    "            cleaned_traveler_type = cleaned_traveler_type[0]\n",
    "            cleaned_traveler_count = ''.join(raw_traveler_count).replace('\\n','')\n",
    "            travelers_list.append((cleaned_traveler_type,cleaned_traveler_count))\n",
    "        \n",
    "        times_list = []\n",
    "        for time in times:\n",
    "            XPATH_TIME_TYPE = './/label//text()'\n",
    "            XPATH_TIME_COUNT = './/span//text()'\n",
    "            raw_time_type = time.xpath(XPATH_TIME_TYPE)\n",
    "            raw_time_count = time.xpath(XPATH_TIME_COUNT)\n",
    "            cleaned_time_type = ''.join(raw_time_type).replace('\\n','').split(' ')\n",
    "            cleaned_time_type = cleaned_time_type[0]\n",
    "            cleaned_time_count = ''.join(raw_time_count).replace('\\n','')\n",
    "            times_list.append((cleaned_time_type, cleaned_time_count))\n",
    "        \n",
    "        language_list = []\n",
    "        for language in languages:\n",
    "            XPATH_LANGUAGE_TYPE = './/label//text()'\n",
    "            XPATH_LANGUAGE_COUNT = './/span//text()'\n",
    "            raw_language_type = language.xpath(XPATH_LANGUAGE_TYPE)\n",
    "            raw_language_count = language.xpath(XPATH_LANGUAGE_COUNT)\n",
    "            cleaned_language_type = ''.join(raw_language_type).replace('\\n','').split(' ')\n",
    "            cleaned_language_type = cleaned_language_type[0]\n",
    "            cleaned_language_count = ''.join(raw_language_count).replace('\\n','')\n",
    "            language_list.append(cleaned_language_type)\n",
    "        language_list = language_list[1:]\n",
    "\n",
    "\n",
    "        data = {'name':name,\n",
    "\t\t\t\t'rank':rank,\n",
    "\t\t\t\t'rating':hotel_rating,\n",
    "                'review_count':review_count,\n",
    "                'latitude':latitude,\n",
    "                'longitude':longitude,\n",
    "#                 'official_description':official_description,\n",
    "                  'travelers':travelers_list,\n",
    "                  'times of year':times_list,\n",
    "                  'languages':language_list\n",
    "#                  'details':details\n",
    "\t    }\n",
    "        restaurants.append(data)\n",
    "        \n",
    "        \n",
    "#    columns = ['property_title', 'rank', 'rating', 'review_count', 'location', 'official_description', 'travelers', 'times', 'langauges']\n",
    "    df = pd.DataFrame(restaurants)\n",
    "    return df\n",
    "\n",
    "\n",
    "\n",
    "input_file = open('links.csv', 'r')\n",
    "links = []\n",
    "for i in input_file:\n",
    "    links.append('https://www.tripadvisor.com'+i)\n",
    "scraped_data = parse(links)\n",
    "scraped_data"
   ]
  },
  {
   "cell_type": "code",
   "execution_count": null,
   "metadata": {
    "collapsed": true
   },
   "outputs": [],
   "source": [
    "with open('restaurants_details3.csv', 'w') as csvfile:\n",
    "    scraped_data.to_csv(csvfile,columns = ['latitude','longitude','name'], encoding='utf-8')"
   ]
  },
  {
   "cell_type": "code",
   "execution_count": null,
   "metadata": {
    "collapsed": false
   },
   "outputs": [],
   "source": [
    "scraped_data.dropna()"
   ]
  },
  {
   "cell_type": "code",
   "execution_count": null,
   "metadata": {
    "collapsed": false
   },
   "outputs": [],
   "source": [
    "scraped_data2 = pd.DataFrame(scraped_data.dropna())"
   ]
  },
  {
   "cell_type": "code",
   "execution_count": null,
   "metadata": {
    "collapsed": false
   },
   "outputs": [],
   "source": [
    "lat = [(float(x)) for x in scraped_data2['latitude']]\n",
    "long = [(float(x)) for x in scraped_data2['longitude']]"
   ]
  },
  {
   "cell_type": "code",
   "execution_count": null,
   "metadata": {
    "collapsed": false
   },
   "outputs": [],
   "source": [
    "print((max(lat)+min(lat))/2)\n",
    "print((max(lat)))\n",
    "print((min(lat)))\n",
    "print((max(long)+min(long))/2)"
   ]
  },
  {
   "cell_type": "code",
   "execution_count": null,
   "metadata": {
    "collapsed": true
   },
   "outputs": [],
   "source": [
    "#import gmplot\n",
    "\n",
    "#gmap = gmplot.GoogleMapPlotter(37.428, -122.145, 16)\n",
    "\n",
    "#gmap.plot(latitudes, longitudes, 'cornflowerblue', edge_width=10)\n",
    "#gmap.scatter(more_lats, more_lngs, '#3B0B39', size=40, marker=False)\n",
    "#gmap.scatter(marker_lats, marker_lngs, 'k', marker=True)\n",
    "#gmap.heatmap(heat_lats, heat_lngs)\n",
    "\n",
    "#gmap.draw(\"mymap.html\")"
   ]
  },
  {
   "cell_type": "code",
   "execution_count": null,
   "metadata": {
    "collapsed": true
   },
   "outputs": [],
   "source": [
    "#https://pypi.python.org/pypi/gmplot/1.0.5"
   ]
  },
  {
   "cell_type": "code",
   "execution_count": null,
   "metadata": {
    "collapsed": true
   },
   "outputs": [],
   "source": [
    "#https://github.com/tcassou/gmaps    map examples"
   ]
  },
  {
   "cell_type": "code",
   "execution_count": null,
   "metadata": {
    "collapsed": false,
    "scrolled": true
   },
   "outputs": [],
   "source": [
    "from collections import Counter\n",
    "import re\n",
    "#def convert(string):\n",
    "#    return Counter(re.findall('[A-Z][a-z]*', string))\n",
    "import ast\n",
    "languages_dictsList = []\n",
    "for i in scraped_data2['languages']:\n",
    "    lang = (re.findall('[A-Z][a-z]*', str(i)))\n",
    "    freq = (re.findall('[1-9][0-9]*', str(i)))\n",
    "    dictionary = dict(zip(lang, freq))\n",
    "    languages_dictsList.append(dictionary)\n",
    "lang_df = pd.DataFrame(languages_dictsList)\n",
    "new_names = [(i,'lang_'+i) for i in lang_df.iloc[:, 0:].columns.values]\n",
    "lang_df.rename(columns = dict(new_names), inplace=True) #adding prefix to know what type of cat\n",
    "resulting_df = scraped_data2.join(lang_df)\n",
    "resulting_df.fillna(value=0, inplace=True) #final dataframe with languages of reviews as categories"
   ]
  },
  {
   "cell_type": "code",
   "execution_count": null,
   "metadata": {
    "collapsed": false
   },
   "outputs": [],
   "source": [
    "travelers_dictsList = []\n",
    "for i in scraped_data2['travelers']:\n",
    "    trav = (re.findall('[A-Z][a-z]*', str(i)))\n",
    "    freq = (re.findall('[1-9][0-9]*', str(i)))\n",
    "    dictionary = dict(zip(trav, freq))\n",
    "    travelers_dictsList.append(dictionary)\n",
    "travelers_df = pd.DataFrame(travelers_dictsList)\n",
    "new_names = [(i,'travType_'+i) for i in travelers_df.iloc[:, 0:].columns.values] \n",
    "travelers_df.rename(columns = dict(new_names), inplace=True) #adding prefix to know what type of cat\n",
    "resulting_df2 = resulting_df.join(travelers_df)\n",
    "resulting_df2.fillna(value=0, inplace=True) #types of travelers added as categories "
   ]
  },
  {
   "cell_type": "code",
   "execution_count": null,
   "metadata": {
    "collapsed": false
   },
   "outputs": [],
   "source": [
    "resulting_df2"
   ]
  },
  {
   "cell_type": "code",
   "execution_count": null,
   "metadata": {
    "collapsed": false
   },
   "outputs": [],
   "source": [
    "trav_typedf = resulting_df2[['travType_Business','travType_Couples','travType_Families','travType_Friends','travType_Solo']]"
   ]
  },
  {
   "cell_type": "code",
   "execution_count": null,
   "metadata": {
    "collapsed": false
   },
   "outputs": [],
   "source": [
    "type(trav_typedf['travType_Business'])."
   ]
  },
  {
   "cell_type": "code",
   "execution_count": null,
   "metadata": {
    "collapsed": false
   },
   "outputs": [],
   "source": [
    "import matplotlib\n",
    "%matplotlib inline\n",
    "color = dict(boxes='DarkGreen', whiskers='DarkOrange', medians='DarkBlue', caps='Gray')\n",
    "#fig = trav_typedf.astype(float).plot.box(color=color, sym='r+',figsize=(10, 6)).set_title('Types of Travelers reviewing')\n",
    "fig = (trav_typedf.astype(float).plot.box(color=color, sym='r+',figsize=(10, 6)))\n",
    "#fig.suptitle('What type of travelers choose to write reviews', fontsize=14, fontweight='bold')\n",
    "matplotlib.axes.Axes.set_ylabel(fig,'number of reviews') #per restaurant\n",
    "matplotlib.axes.Axes.set_xlabel(fig,'categories of travelers')\n",
    "matplotlib.axes.Axes.set_title(fig,'Types of Travelers Reviewing')\n",
    "\n",
    "\n",
    "\n",
    "\n",
    "#fig.set_xlabel('xlabel')()\n",
    "#fig.set_ylabel('ylabel')()\n",
    "#ax1.set_xlabel('Distribution')\n",
    "#ax1.set_ylabel('Value'"
   ]
  },
  {
   "cell_type": "code",
   "execution_count": null,
   "metadata": {
    "collapsed": false
   },
   "outputs": [],
   "source": [
    "resulting_df2.columns"
   ]
  },
  {
   "cell_type": "code",
   "execution_count": null,
   "metadata": {
    "collapsed": false
   },
   "outputs": [],
   "source": [
    "lang_typedf = resulting_df2[['lang_English','lang_Arabic' ,'lang_French', 'lang_German',\n",
    "       'lang_Italian', 'lang_Japanese', 'lang_Russian', 'lang_Spanish']].astype(float)"
   ]
  },
  {
   "cell_type": "code",
   "execution_count": null,
   "metadata": {
    "collapsed": true
   },
   "outputs": [],
   "source": [
    "lang_typedf2 = resulting_df2[['lang_English','lang_Arabic']].astype(float)"
   ]
  },
  {
   "cell_type": "code",
   "execution_count": null,
   "metadata": {
    "collapsed": false
   },
   "outputs": [],
   "source": [
    "#lang_typedf2.join(lang_typedf3.name('lang_others'), how='left')\n",
    "#['lang_others']"
   ]
  },
  {
   "cell_type": "code",
   "execution_count": null,
   "metadata": {
    "collapsed": false
   },
   "outputs": [],
   "source": [
    "color = dict(boxes='DarkGreen', whiskers='DarkOrange', medians='DarkBlue', caps='Gray')\n",
    "#fig = trav_typedf.astype(float).plot.box(color=color, sym='r+',figsize=(10, 6)).set_title('Types of Travelers reviewing')\n",
    "fig = (lang_typedf.astype(float).plot.box(color=color, sym='r+',figsize=(12, 8)))\n",
    "#fig.suptitle('What type of travelers choose to write reviews', fontsize=14, fontweight='bold')\n",
    "matplotlib.axes.Axes.set_ylabel(fig,'number of reviews') #per restaurant\n",
    "matplotlib.axes.Axes.set_xlabel(fig,'languages')\n",
    "matplotlib.axes.Axes.set_title(fig,'Languages of Reviews')"
   ]
  },
  {
   "cell_type": "code",
   "execution_count": null,
   "metadata": {
    "collapsed": true
   },
   "outputs": [],
   "source": []
  }
 ],
 "metadata": {
  "anaconda-cloud": {},
  "kernelspec": {
   "display_name": "Python [conda root]",
   "language": "python",
   "name": "conda-root-py"
  },
  "language_info": {
   "codemirror_mode": {
    "name": "ipython",
    "version": 3
   },
   "file_extension": ".py",
   "mimetype": "text/x-python",
   "name": "python",
   "nbconvert_exporter": "python",
   "pygments_lexer": "ipython3",
   "version": "3.5.2"
  }
 },
 "nbformat": 4,
 "nbformat_minor": 1
}
